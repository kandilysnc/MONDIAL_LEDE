{
 "cells": [
  {
   "cell_type": "markdown",
   "metadata": {},
   "source": [
    "## homework 4: part one: regular expressions\n",
    "\n",
    "Here we are just going to do to basic regular expressions and see if you can get the right results. We'll be searching two texts, the first is a list of United States Senators, and the second is \"The Waste Land\" by T. S. Elliot. All you need to do throughout is modify the regular expression that is defined in the my_regex variable.\n"
   ]
  },
  {
   "cell_type": "code",
   "execution_count": 1,
   "metadata": {},
   "outputs": [],
   "source": [
    "\n",
    "senators = '''Alexander, Lamar - (R - TN) Class II 455 Dirksen Senate Office Building Washington DC 20510 (202) 224-4944  Contact: www.alexander.senate.gov/public/index.cfm?p=Email\n",
    "Baldwin, Tammy - (D - WI) Class I 709 Hart Senate Office Building Washington DC 20510 (202) 224-5653  Contact: www.baldwin.senate.gov/feedback\n",
    "Barrasso, John - (R - WY) Class I 307 Dirksen Senate Office Building Washington DC 20510 (202) 224-6441  Contact: www.barrasso.senate.gov/public/index.cfm/contact-form\n",
    "Bennet, Michael F. - (D - CO) Class III 261 Russell Senate Office Building Washington DC 20510 (202) 224-5852  Contact: www.bennet.senate.gov/public/index.cfm/write-to-michael\n",
    "Blumenthal, Richard - (D - CT) Class III 706 Hart Senate Office Building Washington DC 20510 (202) 224-2823  Contact: www.blumenthal.senate.gov/contact/\n",
    "Blunt, Roy - (R - MO) Class III 260 Russell Senate Office Building Washington DC 20510 (202) 224-5721  Contact: www.blunt.senate.gov/public/index.cfm/contact-roy\n",
    "Booker, Cory A. - (D - NJ) Class II 359 Dirksen Senate Office Building Washington DC 20510 (202) 224-3224  Contact: www.booker.senate.gov/?p=contact\n",
    "Boozman, John - (R - AR) Class III 141 Hart Senate Office Building Washington DC 20510 (202) 224-4843  Contact: www.boozman.senate.gov/public/index.cfm/contact\n",
    "Brown, Sherrod - (D - OH) Class I 713 Hart Senate Office Building Washington DC 20510 (202) 224-2315  Contact: www.brown.senate.gov/contact/\n",
    "Burr, Richard - (R - NC) Class III 217 Russell Senate Office Building Washington DC 20510 (202) 224-3154  Contact: www.burr.senate.gov/contact/email\n",
    "Cantwell, Maria - (D - WA) Class I 511 Hart Senate Office Building Washington DC 20510 (202) 224-3441  Contact: www.cantwell.senate.gov/public/index.cfm/email-maria\n",
    "Capito, Shelley Moore - (R - WV) Class II 172 Russell Senate Office Building Washington DC 20510 (202) 224-6472  Contact: www.capito.senate.gov/contact/contact-shelley\n",
    "Cardin, Benjamin L. - (D - MD) Class I 509 Hart Senate Office Building Washington DC 20510 (202) 224-4524  Contact: www.cardin.senate.gov/contact/\n",
    "Carper, Thomas R. - (D - DE) Class I 513 Hart Senate Office Building Washington DC 20510 (202) 224-2441  Contact: www.carper.senate.gov/public/index.cfm/email-senator-carper\n",
    "Casey, Robert P., Jr. - (D - PA) Class I 393 Russell Senate Office Building Washington DC 20510 (202) 224-6324  Contact: www.casey.senate.gov/contact/\n",
    "Cassidy, Bill - (R - LA) Class II 520 Hart Senate Office Building Washington DC 20510 (202) 224-5824  Contact: www.cassidy.senate.gov/contact\n",
    "Collins, Susan M. - (R - ME) Class II 413 Dirksen Senate Office Building Washington DC 20510 (202) 224-2523  Contact: www.collins.senate.gov/contact\n",
    "Coons, Christopher A. - (D - DE) Class II 127A Russell Senate Office Building Washington DC 20510 (202) 224-5042  Contact: www.coons.senate.gov/contact\n",
    "Corker, Bob - (R - TN) Class I 425 Dirksen Senate Office Building Washington DC 20510 (202) 224-3344  Contact: www.corker.senate.gov/public/index.cfm/emailme\n",
    "Cornyn, John - (R - TX) Class II 517 Hart Senate Office Building Washington DC 20510 (202) 224-2934  Contact: www.cornyn.senate.gov/contact\n",
    "Cortez Masto, Catherine - (D - NV) Class III 204 Russell Senate Office Building Washington DC 20510 (202) 224-3542  Contact: www.cortezmasto.senate.gov/contact\n",
    "Cotton, Tom - (R - AR) Class II 124 Russell Senate Office Building Washington DC 20510 (202) 224-2353  Contact: www.cotton.senate.gov/?p=contact\n",
    "Crapo, Mike - (R - ID) Class III 239 Dirksen Senate Office Building Washington DC 20510 (202) 224-6142  Contact: www.crapo.senate.gov/contact\n",
    "Cruz, Ted - (R - TX) Class I 404 Russell Senate Office Building Washington DC 20510 (202) 224-5922  Contact: www.cruz.senate.gov/?p=form&id=16\n",
    "Daines, Steve - (R - MT) Class II 320 Hart Senate Office Building Washington DC 20510 (202) 224-2651  Contact: www.daines.senate.gov/connect/email-steve\n",
    "Donnelly, Joe - (D - IN) Class I 720 Hart Senate Office Building Washington DC 20510 (202) 224-4814  Contact: www.donnelly.senate.gov/contact/email-joe\n",
    "Duckworth, Tammy - (D - IL) Class III 524 Hart Senate Office Building Washington DC 20510 (202) 224-2854  Contact: www.duckworth.senate.gov/content/contact-senator\n",
    "Durbin, Richard J. - (D - IL) Class II 711 Hart Senate Office Building Washington DC 20510 (202) 224-2152  Contact: www.durbin.senate.gov/contact/\n",
    "Enzi, Michael B. - (R - WY) Class II 379A Russell Senate Office Building Washington DC 20510 (202) 224-3424  Contact: www.enzi.senate.gov/public/index.cfm/contact?p=e-mail-sen...\n",
    "Ernst, Joni - (R - IA) Class II 111 Russell Senate Office Building Washington DC 20510 (202) 224-3254  Contact: www.ernst.senate.gov/public/index.cfm/contact\n",
    "Feinstein, Dianne - (D - CA) Class I 331 Hart Senate Office Building Washington DC 20510 (202) 224-3841  Contact: www.feinstein.senate.gov/public/index.cfm/e-mail-me\n",
    "Fischer, Deb - (R - NE) Class I 454 Russell Senate Office Building Washington DC 20510 (202) 224-6551  Contact: www.fischer.senate.gov/public/index.cfm/contact\n",
    "Flake, Jeff - (R - AZ) Class I 413 Russell Senate Office Building Washington DC 20510 (202) 224-4521  Contact: www.flake.senate.gov/public/index.cfm/contact-jeff\n",
    "Gardner, Cory - (R - CO) Class II 354 Russell Senate Office Building Washington DC 20510 (202) 224-5941  Contact: www.gardner.senate.gov/contact-cory/email-cory\n",
    "Gillibrand, Kirsten E. - (D - NY) Class I 478 Russell Senate Office Building Washington DC 20510 (202) 224-4451  Contact: www.gillibrand.senate.gov/contact/email-me\n",
    "Graham, Lindsey - (R - SC) Class II 290 Russell Senate Office Building Washington DC 20510 (202) 224-5972  Contact: www.lgraham.senate.gov/public/index.cfm/e-mail-senator-gr... \n",
    "Grassley, Chuck - (R - IA) Class III 135 Hart Senate Office Building Washington DC 20510 (202) 224-3744  Contact: www.grassley.senate.gov/contact\n",
    "Harris, Kamala D. - (D - CA) Class III 112 Hart Senate Office Building Washington DC 20510 (202) 224-3553  Contact: www.harris.senate.gov/contact\n",
    "Hassan, Margaret Wood - (D - NH) Class III 330 Hart Senate Office Building Washington DC 20510 (202) 224-3324  Contact: www.hassan.senate.gov/content/contact-senator\n",
    "Hatch, Orrin G. - (R - UT) Class I 104 Hart Senate Office Building Washington DC 20510 (202) 224-5251  Contact: www.hatch.senate.gov/public/index.cfm/contact?p=Email-Orrin\n",
    "Heinrich, Martin - (D - NM) Class I 303 Hart Senate Office Building Washington DC 20510 (202) 224-5521  Contact: www.heinrich.senate.gov/contact\n",
    "Heitkamp, Heidi - (D - ND) Class I 516 Hart Senate Office Building Washington DC 20510 (202) 224-2043  Contact: www.heitkamp.senate.gov/public/index.cfm/contact\n",
    "Heller, Dean - (R - NV) Class I 324 Hart Senate Office Building Washington DC 20510 (202) 224-6244  Contact: www.heller.senate.gov/public/index.cfm/contact-form\n",
    "Hirono, Mazie K. - (D - HI) Class I 730 Hart Senate Office Building Washington DC 20510 (202) 224-6361  Contact: www.hirono.senate.gov/contact\n",
    "Hoeven, John - (R - ND) Class III 338 Russell Senate Office Building Washington DC 20510 (202) 224-2551  Contact: www.hoeven.senate.gov/public/index.cfm/email-the-senator\n",
    "Hyde-Smith, Cindy - (R - MS) Class II G12 Dirksen Senate Office Building Washington DC 20510 (202) 224-5054  Contact: www.hydesmith.senate.gov/content/contact-senator\n",
    "Inhofe, James M. - (R - OK) Class II 205 Russell Senate Office Building Washington DC 20510 (202) 224-4721  Contact: www.inhofe.senate.gov/contact\n",
    "Isakson, Johnny - (R - GA) Class III 131 Russell Senate Office Building Washington DC 20510 (202) 224-3643  Contact: www.isakson.senate.gov/public/index.cfm/email-me\n",
    "Johnson, Ron - (R - WI) Class III 328 Hart Senate Office Building Washington DC 20510 (202) 224-5323  Contact: www.ronjohnson.senate.gov/public/index.cfm/email-the-sena...\n",
    "Jones, Doug - (D - AL) Class II 326 Russell Senate Office Building Washington DC 20510 (202) 224-4124  Contact: www.jones.senate.gov/content/contact-senator\n",
    "Kaine, Tim - (D - VA) Class I 231 Russell Senate Office Building Washington DC 20510 (202) 224-4024  Contact: www.kaine.senate.gov/contact\n",
    "Kennedy, John - (R - LA) Class III 383 Russell Senate Office Building Washington DC 20510 (202) 224-4623  Contact: www.kennedy.senate.gov/public/email-me\n",
    "King, Angus S., Jr. - (I - ME) Class I 133 Hart Senate Office Building Washington DC 20510 (202) 224-5344  Contact: www.king.senate.gov/contact\n",
    "Klobuchar, Amy - (D - MN) Class I 302 Hart Senate Office Building Washington DC 20510 (202) 224-3244  Contact: www.klobuchar.senate.gov/public/index.cfm/contact\n",
    "Lankford, James - (R - OK) Class III 316 Hart Senate Office Building Washington DC 20510 (202) 224-5754  Contact: www.lankford.senate.gov/contact/email\n",
    "Leahy, Patrick J. - (D - VT) Class III 437 Russell Senate Office Building Washington DC 20510 (202) 224-4242  Contact: www.leahy.senate.gov/contact/\n",
    "Lee, Mike - (R - UT) Class III 361A Russell Senate Office Building Washington DC 20510 (202) 224-5444  Contact: www.lee.senate.gov/public/index.cfm/contact\n",
    "Manchin, Joe, III - (D - WV) Class I 306 Hart Senate Office Building Washington DC 20510 (202) 224-3954  Contact: www.manchin.senate.gov/public/index.cfm/contact-form\n",
    "Markey, Edward J. - (D - MA) Class II 255 Dirksen Senate Office Building Washington DC 20510 (202) 224-2742  Contact: www.markey.senate.gov/contact\n",
    "McCain, John - (R - AZ) Class III 218 Russell Senate Office Building Washington DC 20510 (202) 224-2235  Contact: www.mccain.senate.gov/public/index.cfm/contact-form\n",
    "McCaskill, Claire - (D - MO) Class I 503 Hart Senate Office Building Washington DC 20510 (202) 224-6154  Contact: www.mccaskill.senate.gov/contact\n",
    "McConnell, Mitch - (R - KY) Class II 317 Russell Senate Office Building Washington DC 20510 (202) 224-2541  Contact: www.mcconnell.senate.gov/public/index.cfm?p=contact\n",
    "Menendez, Robert - (D - NJ) Class I 528 Hart Senate Office Building Washington DC 20510 (202) 224-4744  Contact: www.menendez.senate.gov/contact\n",
    "Merkley, Jeff - (D - OR) Class II 313 Hart Senate Office Building Washington DC 20510 (202) 224-3753  Contact: www.merkley.senate.gov/contact/\n",
    "Moran, Jerry - (R - KS) Class III 521 Dirksen Senate Office Building Washington DC 20510 (202) 224-6521  Contact: www.moran.senate.gov/public/index.cfm/e-mail-jerry\n",
    "Murkowski, Lisa - (R - AK) Class III 522 Hart Senate Office Building Washington DC 20510 (202) 224-6665  Contact: www.murkowski.senate.gov/public/index.cfm/contact\n",
    "Murphy, Christopher - (D - CT) Class I 136 Hart Senate Office Building Washington DC 20510 (202) 224-4041  Contact: www.murphy.senate.gov/contact\n",
    "Murray, Patty - (D - WA) Class III 154 Russell Senate Office Building Washington DC 20510 (202) 224-2621  Contact: www.murray.senate.gov/public/index.cfm/contactme\n",
    "Nelson, Bill - (D - FL) Class I 716 Hart Senate Office Building Washington DC 20510 (202) 224-5274  Contact: www.billnelson.senate.gov/contact-bill\n",
    "Paul, Rand - (R - KY) Class III 167 Russell Senate Office Building Washington DC 20510 (202) 224-4343  Contact: www.paul.senate.gov/connect/email-rand \n",
    "Perdue, David - (R - GA) Class II 455 Russell Senate Office Building Washington DC 20510 (202) 224-3521  Contact: www.perdue.senate.gov/connect/email\n",
    "Peters, Gary C. - (D - MI) Class II 724 Hart Senate Office Building Washington DC 20510 (202) 224-6221  Contact: www.peters.senate.gov/contact/email-gary\n",
    "Portman, Rob - (R - OH) Class III 448 Russell Senate Office Building Washington DC 20510 (202) 224-3353  Contact: www.portman.senate.gov/public/index.cfm/contact?p=contact...\n",
    "Reed, Jack - (D - RI) Class II 728 Hart Senate Office Building Washington DC 20510 (202) 224-4642  Contact: www.reed.senate.gov/contact/\n",
    "Risch, James E. - (R - ID) Class II 483 Russell Senate Office Building Washington DC 20510 (202) 224-2752  Contact: www.risch.senate.gov/public/index.cfm?p=Email\n",
    "Roberts, Pat - (R - KS) Class II 109 Hart Senate Office Building Washington DC 20510 (202) 224-4774  Contact: www.roberts.senate.gov/public/?p=EmailPat\n",
    "Rounds, Mike - (R - SD) Class II 502 Hart Senate Office Building Washington DC 20510 (202) 224-5842  Contact: www.rounds.senate.gov/contact/email-mike\n",
    "Rubio, Marco - (R - FL) Class III 284 Russell Senate Office Building Washington DC 20510 (202) 224-3041  Contact: www.rubio.senate.gov/public/index.cfm/contact\n",
    "Sanders, Bernard - (I - VT) Class I 332 Dirksen Senate Office Building Washington DC 20510 (202) 224-5141  Contact: www.sanders.senate.gov/contact/\n",
    "Sasse, Ben - (R - NE) Class II 136 Russell Senate Office Building Washington DC 20510 (202) 224-4224  Contact: www.sasse.senate.gov/public/index.cfm/email-ben\n",
    "Schatz, Brian - (D - HI) Class III 722 Hart Senate Office Building Washington DC 20510 (202) 224-3934  Contact: www.schatz.senate.gov/contact\n",
    "Schumer, Charles E. - (D - NY) Class III 322 Hart Senate Office Building Washington DC 20510 (202) 224-6542  Contact: www.schumer.senate.gov/contact/email-chuck\n",
    "Scott, Tim - (R - SC) Class III 717 Hart Senate Office Building Washington DC 20510 (202) 224-6121  Contact: www.scott.senate.gov/contact/email-me\n",
    "Shaheen, Jeanne - (D - NH) Class II 506 Hart Senate Office Building Washington DC 20510 (202) 224-2841  Contact: www.shaheen.senate.gov/contact/contact-jeanne\n",
    "Shelby, Richard C. - (R - AL) Class III 304 Russell Senate Office Building Washington DC 20510 (202) 224-5744  Contact: www.shelby.senate.gov/public/index.cfm/emailsenatorshelby\n",
    "Smith, Tina - (D - MN) Class II 309 Hart Senate Office Building Washington DC 20510 (202) 224-5641  Contact: www.smith.senate.gov/content/contact-senator\n",
    "Stabenow, Debbie - (D - MI) Class I 731 Hart Senate Office Building Washington DC 20510 (202) 224-4822  Contact: www.stabenow.senate.gov/contact\n",
    "Sullivan, Dan - (R - AK) Class II 702 Hart Senate Office Building Washington DC 20510 (202) 224-3004  Contact: www.sullivan.senate.gov/contact/email\n",
    "Tester, Jon - (D - MT) Class I 311 Hart Senate Office Building Washington DC 20510 (202) 224-2644  Contact: www.tester.senate.gov/?p=email_senator\n",
    "Thune, John - (R - SD) Class III 511 Dirksen Senate Office Building Washington DC 20510 (202) 224-2321  Contact: www.thune.senate.gov/public/index.cfm/contact\n",
    "Tillis, Thom - (R - NC) Class II 185 Dirksen Senate Office Building Washington DC 20510 (202) 224-6342  Contact: www.tillis.senate.gov/public/index.cfm/email-me\n",
    "Toomey, Patrick J. - (R - PA) Class III 248 Russell Senate Office Building Washington DC 20510 (202) 224-4254  Contact: www.toomey.senate.gov/?p=contact\n",
    "Udall, Tom - (D - NM) Class II 531 Hart Senate Office Building Washington DC 20510 (202) 224-6621  Contact: www.tomudall.senate.gov/?p=contact\n",
    "Van Hollen, Chris - (D - MD) Class III 110 Hart Senate Office Building Washington DC 20510 (202) 224-4654  Contact: www.vanhollen.senate.gov/content/contact-senator\n",
    "Warner, Mark R. - (D - VA) Class II 703 Hart Senate Office Building Washington DC 20510 (202) 224-2023  Contact: www.warner.senate.gov/public/index.cfm?p=Contact\n",
    "Warren, Elizabeth - (D - MA) Class I 317 Hart Senate Office Building Washington DC 20510 (202) 224-4543  Contact: www.warren.senate.gov/?p=email_senator\n",
    "Whitehouse, Sheldon - (D - RI) Class I 530 Hart Senate Office Building Washington DC 20510 (202) 224-2921  Contact: www.whitehouse.senate.gov/contact/email-sheldon\n",
    "Wicker, Roger F. - (R - MS) Class I 555 Dirksen Senate Office Building Washington DC 20510 (202) 224-6253  Contact: www.wicker.senate.gov/public/index.cfm/contact\n",
    "Wyden, Ron - (D - OR) Class III 221 Dirksen Senate Office Building Washington DC 20510 (202) 224-5244  Contact: www.wyden.senate.gov/contact/\n",
    "Young, Todd - (R - IN) Class III 400 Russell Senate Office Building Washington DC 20510 (202) 224-5623  Contact: www.young.senate.gov/contact'''"
   ]
  },
  {
   "cell_type": "code",
   "execution_count": 2,
   "metadata": {},
   "outputs": [],
   "source": [
    "#run this and the cell below!\n",
    "import re"
   ]
  },
  {
   "cell_type": "code",
   "execution_count": 3,
   "metadata": {},
   "outputs": [
    {
     "data": {
      "text/plain": [
       "['Alexander, Lamar - (R - TN) Class II 455 Dirksen Senate Office Building Washington DC 20510 (202) 224-4944  Contact: www.alexander.senate.gov/public/index.cfm?p=Email',\n",
       " 'Baldwin, Tammy - (D - WI) Class I 709 Hart Senate Office Building Washington DC 20510 (202) 224-5653  Contact: www.baldwin.senate.gov/feedback',\n",
       " 'Barrasso, John - (R - WY) Class I 307 Dirksen Senate Office Building Washington DC 20510 (202) 224-6441  Contact: www.barrasso.senate.gov/public/index.cfm/contact-form',\n",
       " 'Bennet, Michael F. - (D - CO) Class III 261 Russell Senate Office Building Washington DC 20510 (202) 224-5852  Contact: www.bennet.senate.gov/public/index.cfm/write-to-michael',\n",
       " 'Blumenthal, Richard - (D - CT) Class III 706 Hart Senate Office Building Washington DC 20510 (202) 224-2823  Contact: www.blumenthal.senate.gov/contact/',\n",
       " 'Blunt, Roy - (R - MO) Class III 260 Russell Senate Office Building Washington DC 20510 (202) 224-5721  Contact: www.blunt.senate.gov/public/index.cfm/contact-roy',\n",
       " 'Booker, Cory A. - (D - NJ) Class II 359 Dirksen Senate Office Building Washington DC 20510 (202) 224-3224  Contact: www.booker.senate.gov/?p=contact',\n",
       " 'Boozman, John - (R - AR) Class III 141 Hart Senate Office Building Washington DC 20510 (202) 224-4843  Contact: www.boozman.senate.gov/public/index.cfm/contact',\n",
       " 'Brown, Sherrod - (D - OH) Class I 713 Hart Senate Office Building Washington DC 20510 (202) 224-2315  Contact: www.brown.senate.gov/contact/',\n",
       " 'Burr, Richard - (R - NC) Class III 217 Russell Senate Office Building Washington DC 20510 (202) 224-3154  Contact: www.burr.senate.gov/contact/email',\n",
       " 'Cantwell, Maria - (D - WA) Class I 511 Hart Senate Office Building Washington DC 20510 (202) 224-3441  Contact: www.cantwell.senate.gov/public/index.cfm/email-maria',\n",
       " 'Capito, Shelley Moore - (R - WV) Class II 172 Russell Senate Office Building Washington DC 20510 (202) 224-6472  Contact: www.capito.senate.gov/contact/contact-shelley',\n",
       " 'Cardin, Benjamin L. - (D - MD) Class I 509 Hart Senate Office Building Washington DC 20510 (202) 224-4524  Contact: www.cardin.senate.gov/contact/',\n",
       " 'Carper, Thomas R. - (D - DE) Class I 513 Hart Senate Office Building Washington DC 20510 (202) 224-2441  Contact: www.carper.senate.gov/public/index.cfm/email-senator-carper',\n",
       " 'Casey, Robert P., Jr. - (D - PA) Class I 393 Russell Senate Office Building Washington DC 20510 (202) 224-6324  Contact: www.casey.senate.gov/contact/',\n",
       " 'Cassidy, Bill - (R - LA) Class II 520 Hart Senate Office Building Washington DC 20510 (202) 224-5824  Contact: www.cassidy.senate.gov/contact',\n",
       " 'Collins, Susan M. - (R - ME) Class II 413 Dirksen Senate Office Building Washington DC 20510 (202) 224-2523  Contact: www.collins.senate.gov/contact',\n",
       " 'Coons, Christopher A. - (D - DE) Class II 127A Russell Senate Office Building Washington DC 20510 (202) 224-5042  Contact: www.coons.senate.gov/contact',\n",
       " 'Corker, Bob - (R - TN) Class I 425 Dirksen Senate Office Building Washington DC 20510 (202) 224-3344  Contact: www.corker.senate.gov/public/index.cfm/emailme',\n",
       " 'Cornyn, John - (R - TX) Class II 517 Hart Senate Office Building Washington DC 20510 (202) 224-2934  Contact: www.cornyn.senate.gov/contact',\n",
       " 'Cortez Masto, Catherine - (D - NV) Class III 204 Russell Senate Office Building Washington DC 20510 (202) 224-3542  Contact: www.cortezmasto.senate.gov/contact',\n",
       " 'Cotton, Tom - (R - AR) Class II 124 Russell Senate Office Building Washington DC 20510 (202) 224-2353  Contact: www.cotton.senate.gov/?p=contact',\n",
       " 'Crapo, Mike - (R - ID) Class III 239 Dirksen Senate Office Building Washington DC 20510 (202) 224-6142  Contact: www.crapo.senate.gov/contact',\n",
       " 'Cruz, Ted - (R - TX) Class I 404 Russell Senate Office Building Washington DC 20510 (202) 224-5922  Contact: www.cruz.senate.gov/?p=form&id=16',\n",
       " 'Daines, Steve - (R - MT) Class II 320 Hart Senate Office Building Washington DC 20510 (202) 224-2651  Contact: www.daines.senate.gov/connect/email-steve',\n",
       " 'Donnelly, Joe - (D - IN) Class I 720 Hart Senate Office Building Washington DC 20510 (202) 224-4814  Contact: www.donnelly.senate.gov/contact/email-joe',\n",
       " 'Duckworth, Tammy - (D - IL) Class III 524 Hart Senate Office Building Washington DC 20510 (202) 224-2854  Contact: www.duckworth.senate.gov/content/contact-senator',\n",
       " 'Durbin, Richard J. - (D - IL) Class II 711 Hart Senate Office Building Washington DC 20510 (202) 224-2152  Contact: www.durbin.senate.gov/contact/',\n",
       " 'Enzi, Michael B. - (R - WY) Class II 379A Russell Senate Office Building Washington DC 20510 (202) 224-3424  Contact: www.enzi.senate.gov/public/index.cfm/contact?p=e-mail-sen...',\n",
       " 'Ernst, Joni - (R - IA) Class II 111 Russell Senate Office Building Washington DC 20510 (202) 224-3254  Contact: www.ernst.senate.gov/public/index.cfm/contact',\n",
       " 'Feinstein, Dianne - (D - CA) Class I 331 Hart Senate Office Building Washington DC 20510 (202) 224-3841  Contact: www.feinstein.senate.gov/public/index.cfm/e-mail-me',\n",
       " 'Fischer, Deb - (R - NE) Class I 454 Russell Senate Office Building Washington DC 20510 (202) 224-6551  Contact: www.fischer.senate.gov/public/index.cfm/contact',\n",
       " 'Flake, Jeff - (R - AZ) Class I 413 Russell Senate Office Building Washington DC 20510 (202) 224-4521  Contact: www.flake.senate.gov/public/index.cfm/contact-jeff',\n",
       " 'Gardner, Cory - (R - CO) Class II 354 Russell Senate Office Building Washington DC 20510 (202) 224-5941  Contact: www.gardner.senate.gov/contact-cory/email-cory',\n",
       " 'Gillibrand, Kirsten E. - (D - NY) Class I 478 Russell Senate Office Building Washington DC 20510 (202) 224-4451  Contact: www.gillibrand.senate.gov/contact/email-me',\n",
       " 'Graham, Lindsey - (R - SC) Class II 290 Russell Senate Office Building Washington DC 20510 (202) 224-5972  Contact: www.lgraham.senate.gov/public/index.cfm/e-mail-senator-gr... ',\n",
       " 'Grassley, Chuck - (R - IA) Class III 135 Hart Senate Office Building Washington DC 20510 (202) 224-3744  Contact: www.grassley.senate.gov/contact',\n",
       " 'Harris, Kamala D. - (D - CA) Class III 112 Hart Senate Office Building Washington DC 20510 (202) 224-3553  Contact: www.harris.senate.gov/contact',\n",
       " 'Hassan, Margaret Wood - (D - NH) Class III 330 Hart Senate Office Building Washington DC 20510 (202) 224-3324  Contact: www.hassan.senate.gov/content/contact-senator',\n",
       " 'Hatch, Orrin G. - (R - UT) Class I 104 Hart Senate Office Building Washington DC 20510 (202) 224-5251  Contact: www.hatch.senate.gov/public/index.cfm/contact?p=Email-Orrin',\n",
       " 'Heinrich, Martin - (D - NM) Class I 303 Hart Senate Office Building Washington DC 20510 (202) 224-5521  Contact: www.heinrich.senate.gov/contact',\n",
       " 'Heitkamp, Heidi - (D - ND) Class I 516 Hart Senate Office Building Washington DC 20510 (202) 224-2043  Contact: www.heitkamp.senate.gov/public/index.cfm/contact',\n",
       " 'Heller, Dean - (R - NV) Class I 324 Hart Senate Office Building Washington DC 20510 (202) 224-6244  Contact: www.heller.senate.gov/public/index.cfm/contact-form',\n",
       " 'Hirono, Mazie K. - (D - HI) Class I 730 Hart Senate Office Building Washington DC 20510 (202) 224-6361  Contact: www.hirono.senate.gov/contact',\n",
       " 'Hoeven, John - (R - ND) Class III 338 Russell Senate Office Building Washington DC 20510 (202) 224-2551  Contact: www.hoeven.senate.gov/public/index.cfm/email-the-senator',\n",
       " 'Hyde-Smith, Cindy - (R - MS) Class II G12 Dirksen Senate Office Building Washington DC 20510 (202) 224-5054  Contact: www.hydesmith.senate.gov/content/contact-senator',\n",
       " 'Inhofe, James M. - (R - OK) Class II 205 Russell Senate Office Building Washington DC 20510 (202) 224-4721  Contact: www.inhofe.senate.gov/contact',\n",
       " 'Isakson, Johnny - (R - GA) Class III 131 Russell Senate Office Building Washington DC 20510 (202) 224-3643  Contact: www.isakson.senate.gov/public/index.cfm/email-me',\n",
       " 'Johnson, Ron - (R - WI) Class III 328 Hart Senate Office Building Washington DC 20510 (202) 224-5323  Contact: www.ronjohnson.senate.gov/public/index.cfm/email-the-sena...',\n",
       " 'Jones, Doug - (D - AL) Class II 326 Russell Senate Office Building Washington DC 20510 (202) 224-4124  Contact: www.jones.senate.gov/content/contact-senator',\n",
       " 'Kaine, Tim - (D - VA) Class I 231 Russell Senate Office Building Washington DC 20510 (202) 224-4024  Contact: www.kaine.senate.gov/contact',\n",
       " 'Kennedy, John - (R - LA) Class III 383 Russell Senate Office Building Washington DC 20510 (202) 224-4623  Contact: www.kennedy.senate.gov/public/email-me',\n",
       " 'King, Angus S., Jr. - (I - ME) Class I 133 Hart Senate Office Building Washington DC 20510 (202) 224-5344  Contact: www.king.senate.gov/contact',\n",
       " 'Klobuchar, Amy - (D - MN) Class I 302 Hart Senate Office Building Washington DC 20510 (202) 224-3244  Contact: www.klobuchar.senate.gov/public/index.cfm/contact',\n",
       " 'Lankford, James - (R - OK) Class III 316 Hart Senate Office Building Washington DC 20510 (202) 224-5754  Contact: www.lankford.senate.gov/contact/email',\n",
       " 'Leahy, Patrick J. - (D - VT) Class III 437 Russell Senate Office Building Washington DC 20510 (202) 224-4242  Contact: www.leahy.senate.gov/contact/',\n",
       " 'Lee, Mike - (R - UT) Class III 361A Russell Senate Office Building Washington DC 20510 (202) 224-5444  Contact: www.lee.senate.gov/public/index.cfm/contact',\n",
       " 'Manchin, Joe, III - (D - WV) Class I 306 Hart Senate Office Building Washington DC 20510 (202) 224-3954  Contact: www.manchin.senate.gov/public/index.cfm/contact-form',\n",
       " 'Markey, Edward J. - (D - MA) Class II 255 Dirksen Senate Office Building Washington DC 20510 (202) 224-2742  Contact: www.markey.senate.gov/contact',\n",
       " 'McCain, John - (R - AZ) Class III 218 Russell Senate Office Building Washington DC 20510 (202) 224-2235  Contact: www.mccain.senate.gov/public/index.cfm/contact-form',\n",
       " 'McCaskill, Claire - (D - MO) Class I 503 Hart Senate Office Building Washington DC 20510 (202) 224-6154  Contact: www.mccaskill.senate.gov/contact',\n",
       " 'McConnell, Mitch - (R - KY) Class II 317 Russell Senate Office Building Washington DC 20510 (202) 224-2541  Contact: www.mcconnell.senate.gov/public/index.cfm?p=contact',\n",
       " 'Menendez, Robert - (D - NJ) Class I 528 Hart Senate Office Building Washington DC 20510 (202) 224-4744  Contact: www.menendez.senate.gov/contact',\n",
       " 'Merkley, Jeff - (D - OR) Class II 313 Hart Senate Office Building Washington DC 20510 (202) 224-3753  Contact: www.merkley.senate.gov/contact/',\n",
       " 'Moran, Jerry - (R - KS) Class III 521 Dirksen Senate Office Building Washington DC 20510 (202) 224-6521  Contact: www.moran.senate.gov/public/index.cfm/e-mail-jerry',\n",
       " 'Murkowski, Lisa - (R - AK) Class III 522 Hart Senate Office Building Washington DC 20510 (202) 224-6665  Contact: www.murkowski.senate.gov/public/index.cfm/contact',\n",
       " 'Murphy, Christopher - (D - CT) Class I 136 Hart Senate Office Building Washington DC 20510 (202) 224-4041  Contact: www.murphy.senate.gov/contact',\n",
       " 'Murray, Patty - (D - WA) Class III 154 Russell Senate Office Building Washington DC 20510 (202) 224-2621  Contact: www.murray.senate.gov/public/index.cfm/contactme',\n",
       " 'Nelson, Bill - (D - FL) Class I 716 Hart Senate Office Building Washington DC 20510 (202) 224-5274  Contact: www.billnelson.senate.gov/contact-bill',\n",
       " 'Paul, Rand - (R - KY) Class III 167 Russell Senate Office Building Washington DC 20510 (202) 224-4343  Contact: www.paul.senate.gov/connect/email-rand ',\n",
       " 'Perdue, David - (R - GA) Class II 455 Russell Senate Office Building Washington DC 20510 (202) 224-3521  Contact: www.perdue.senate.gov/connect/email',\n",
       " 'Peters, Gary C. - (D - MI) Class II 724 Hart Senate Office Building Washington DC 20510 (202) 224-6221  Contact: www.peters.senate.gov/contact/email-gary',\n",
       " 'Portman, Rob - (R - OH) Class III 448 Russell Senate Office Building Washington DC 20510 (202) 224-3353  Contact: www.portman.senate.gov/public/index.cfm/contact?p=contact...',\n",
       " 'Reed, Jack - (D - RI) Class II 728 Hart Senate Office Building Washington DC 20510 (202) 224-4642  Contact: www.reed.senate.gov/contact/',\n",
       " 'Risch, James E. - (R - ID) Class II 483 Russell Senate Office Building Washington DC 20510 (202) 224-2752  Contact: www.risch.senate.gov/public/index.cfm?p=Email',\n",
       " 'Roberts, Pat - (R - KS) Class II 109 Hart Senate Office Building Washington DC 20510 (202) 224-4774  Contact: www.roberts.senate.gov/public/?p=EmailPat',\n",
       " 'Rounds, Mike - (R - SD) Class II 502 Hart Senate Office Building Washington DC 20510 (202) 224-5842  Contact: www.rounds.senate.gov/contact/email-mike',\n",
       " 'Rubio, Marco - (R - FL) Class III 284 Russell Senate Office Building Washington DC 20510 (202) 224-3041  Contact: www.rubio.senate.gov/public/index.cfm/contact',\n",
       " 'Sanders, Bernard - (I - VT) Class I 332 Dirksen Senate Office Building Washington DC 20510 (202) 224-5141  Contact: www.sanders.senate.gov/contact/',\n",
       " 'Sasse, Ben - (R - NE) Class II 136 Russell Senate Office Building Washington DC 20510 (202) 224-4224  Contact: www.sasse.senate.gov/public/index.cfm/email-ben',\n",
       " 'Schatz, Brian - (D - HI) Class III 722 Hart Senate Office Building Washington DC 20510 (202) 224-3934  Contact: www.schatz.senate.gov/contact',\n",
       " 'Schumer, Charles E. - (D - NY) Class III 322 Hart Senate Office Building Washington DC 20510 (202) 224-6542  Contact: www.schumer.senate.gov/contact/email-chuck',\n",
       " 'Scott, Tim - (R - SC) Class III 717 Hart Senate Office Building Washington DC 20510 (202) 224-6121  Contact: www.scott.senate.gov/contact/email-me',\n",
       " 'Shaheen, Jeanne - (D - NH) Class II 506 Hart Senate Office Building Washington DC 20510 (202) 224-2841  Contact: www.shaheen.senate.gov/contact/contact-jeanne',\n",
       " 'Shelby, Richard C. - (R - AL) Class III 304 Russell Senate Office Building Washington DC 20510 (202) 224-5744  Contact: www.shelby.senate.gov/public/index.cfm/emailsenatorshelby',\n",
       " 'Smith, Tina - (D - MN) Class II 309 Hart Senate Office Building Washington DC 20510 (202) 224-5641  Contact: www.smith.senate.gov/content/contact-senator',\n",
       " 'Stabenow, Debbie - (D - MI) Class I 731 Hart Senate Office Building Washington DC 20510 (202) 224-4822  Contact: www.stabenow.senate.gov/contact',\n",
       " 'Sullivan, Dan - (R - AK) Class II 702 Hart Senate Office Building Washington DC 20510 (202) 224-3004  Contact: www.sullivan.senate.gov/contact/email',\n",
       " 'Tester, Jon - (D - MT) Class I 311 Hart Senate Office Building Washington DC 20510 (202) 224-2644  Contact: www.tester.senate.gov/?p=email_senator',\n",
       " 'Thune, John - (R - SD) Class III 511 Dirksen Senate Office Building Washington DC 20510 (202) 224-2321  Contact: www.thune.senate.gov/public/index.cfm/contact',\n",
       " 'Tillis, Thom - (R - NC) Class II 185 Dirksen Senate Office Building Washington DC 20510 (202) 224-6342  Contact: www.tillis.senate.gov/public/index.cfm/email-me',\n",
       " 'Toomey, Patrick J. - (R - PA) Class III 248 Russell Senate Office Building Washington DC 20510 (202) 224-4254  Contact: www.toomey.senate.gov/?p=contact',\n",
       " 'Udall, Tom - (D - NM) Class II 531 Hart Senate Office Building Washington DC 20510 (202) 224-6621  Contact: www.tomudall.senate.gov/?p=contact',\n",
       " 'Van Hollen, Chris - (D - MD) Class III 110 Hart Senate Office Building Washington DC 20510 (202) 224-4654  Contact: www.vanhollen.senate.gov/content/contact-senator',\n",
       " 'Warner, Mark R. - (D - VA) Class II 703 Hart Senate Office Building Washington DC 20510 (202) 224-2023  Contact: www.warner.senate.gov/public/index.cfm?p=Contact',\n",
       " 'Warren, Elizabeth - (D - MA) Class I 317 Hart Senate Office Building Washington DC 20510 (202) 224-4543  Contact: www.warren.senate.gov/?p=email_senator',\n",
       " 'Whitehouse, Sheldon - (D - RI) Class I 530 Hart Senate Office Building Washington DC 20510 (202) 224-2921  Contact: www.whitehouse.senate.gov/contact/email-sheldon',\n",
       " 'Wicker, Roger F. - (R - MS) Class I 555 Dirksen Senate Office Building Washington DC 20510 (202) 224-6253  Contact: www.wicker.senate.gov/public/index.cfm/contact',\n",
       " 'Wyden, Ron - (D - OR) Class III 221 Dirksen Senate Office Building Washington DC 20510 (202) 224-5244  Contact: www.wyden.senate.gov/contact/',\n",
       " 'Young, Todd - (R - IN) Class III 400 Russell Senate Office Building Washington DC 20510 (202) 224-5623  Contact: www.young.senate.gov/contact']"
      ]
     },
     "execution_count": 3,
     "metadata": {},
     "output_type": "execute_result"
    }
   ],
   "source": [
    "senator_list = senators.splitlines()\n",
    "senator_list"
   ]
  },
  {
   "cell_type": "code",
   "execution_count": 4,
   "metadata": {},
   "outputs": [
    {
     "data": {
      "text/plain": [
       "['Cotton, Tom - (R - AR) Class II 124 Russell Senate Office Building Washington DC 20510 (202) 224-2353  Contact: www.cotton.senate.gov/?p=contact',\n",
       " 'Isakson, Johnny - (R - GA) Class III 131 Russell Senate Office Building Washington DC 20510 (202) 224-3643  Contact: www.isakson.senate.gov/public/index.cfm/email-me',\n",
       " 'Johnson, Ron - (R - WI) Class III 328 Hart Senate Office Building Washington DC 20510 (202) 224-5323  Contact: www.ronjohnson.senate.gov/public/index.cfm/email-the-sena...',\n",
       " 'Nelson, Bill - (D - FL) Class I 716 Hart Senate Office Building Washington DC 20510 (202) 224-5274  Contact: www.billnelson.senate.gov/contact-bill']"
      ]
     },
     "execution_count": 4,
     "metadata": {},
     "output_type": "execute_result"
    }
   ],
   "source": [
    "#Here's an example--Getting all senators a with a last name that ends with \"on\"\n",
    "my_regex = r\"^\\w+on\\b\"\n",
    "[line for line in senator_list if re.search(my_regex, line, re.IGNORECASE)]"
   ]
  },
  {
   "cell_type": "code",
   "execution_count": 55,
   "metadata": {},
   "outputs": [
    {
     "data": {
      "text/plain": [
       "['Carper, Thomas R. - (D - DE) Class I 513 Hart Senate Office Building Washington DC 20510 (202) 224-2441  Contact: www.carper.senate.gov/public/index.cfm/email-senator-carper',\n",
       " 'Cotton, Tom - (R - AR) Class II 124 Russell Senate Office Building Washington DC 20510 (202) 224-2353  Contact: www.cotton.senate.gov/?p=contact',\n",
       " 'Tillis, Thom - (R - NC) Class II 185 Dirksen Senate Office Building Washington DC 20510 (202) 224-6342  Contact: www.tillis.senate.gov/public/index.cfm/email-me',\n",
       " 'Udall, Tom - (D - NM) Class II 531 Hart Senate Office Building Washington DC 20510 (202) 224-6621  Contact: www.tomudall.senate.gov/?p=contact']"
      ]
     },
     "execution_count": 55,
     "metadata": {},
     "output_type": "execute_result"
    }
   ],
   "source": [
    "#1. Get a list of all senators name Thom, Tom, or Thomas\n",
    "my_regex = r\", T[h]*om..\"\n",
    "[line for line in senator_list if re.search(my_regex, line, re.IGNORECASE)]\n"
   ]
  },
  {
   "cell_type": "code",
   "execution_count": 62,
   "metadata": {},
   "outputs": [
    {
     "data": {
      "text/plain": [
       "[]"
      ]
     },
     "execution_count": 62,
     "metadata": {},
     "output_type": "execute_result"
    }
   ],
   "source": [
    "#2. List all \"class I\" senators\n",
    "my_regex = r\"\\w,\\w+Class I\"\n",
    "[line for line in senator_list if re.search(my_regex, line, re.IGNORECASE)]\n",
    "\n",
    "\n"
   ]
  },
  {
   "cell_type": "code",
   "execution_count": null,
   "metadata": {
    "collapsed": true
   },
   "outputs": [],
   "source": [
    "#3. List all class II and III senators\n",
    "my_regex = r\"---\"\n",
    "[line for line in senator_list if re.search(my_regex, line, re.IGNORECASE)]"
   ]
  },
  {
   "cell_type": "code",
   "execution_count": null,
   "metadata": {
    "collapsed": true
   },
   "outputs": [],
   "source": [
    "#4. List all independent senators\n",
    "my_regex = r\"---\"\n",
    "[line for line in senator_list if re.search(my_regex, line, re.IGNORECASE)]"
   ]
  },
  {
   "cell_type": "code",
   "execution_count": 77,
   "metadata": {},
   "outputs": [
    {
     "data": {
      "text/plain": [
       "['Barrasso, John - (R - WY) Class I 307 Dirksen Senate Office Building Washington DC 20510 (202) 224-6441  Contact: www.barrasso.senate.gov/public/index.cfm/contact-form',\n",
       " 'Cantwell, Maria - (D - WA) Class I 511 Hart Senate Office Building Washington DC 20510 (202) 224-3441  Contact: www.cantwell.senate.gov/public/index.cfm/email-maria',\n",
       " 'Carper, Thomas R. - (D - DE) Class I 513 Hart Senate Office Building Washington DC 20510 (202) 224-2441  Contact: www.carper.senate.gov/public/index.cfm/email-senator-carper',\n",
       " 'Crapo, Mike - (R - ID) Class III 239 Dirksen Senate Office Building Washington DC 20510 (202) 224-6142  Contact: www.crapo.senate.gov/contact',\n",
       " 'Lee, Mike - (R - UT) Class III 361A Russell Senate Office Building Washington DC 20510 (202) 224-5444  Contact: www.lee.senate.gov/public/index.cfm/contact',\n",
       " 'Sanders, Bernard - (I - VT) Class I 332 Dirksen Senate Office Building Washington DC 20510 (202) 224-5141  Contact: www.sanders.senate.gov/contact/']"
      ]
     },
     "execution_count": 77,
     "metadata": {},
     "output_type": "execute_result"
    }
   ],
   "source": [
    "#5. List all senators whose phone Numbers end with 41\n",
    "my_regex = r\"\\(\\d{3}\\) \\d{3}-\\d[41]{2}\"\n",
    "[line for line in senator_list if re.search(my_regex, line, re.IGNORECASE)]"
   ]
  },
  {
   "cell_type": "code",
   "execution_count": null,
   "metadata": {
    "collapsed": true
   },
   "outputs": [],
   "source": [
    "#6. List All senators from a state that begins with A, B or C\n",
    "my_regex = r\"---\"\n",
    "[line for line in senator_list if re.search(my_regex, line, re.IGNORECASE)]"
   ]
  },
  {
   "cell_type": "markdown",
   "metadata": {},
   "source": [
    "**Terrible bonus question:** If you really want to make things hard on yourself, write a regular expression using groups that will parse each line and return a list of tuples that looks like this:\n",
    "\n",
    "```\n",
    "[[('Alexander',\n",
    "   'Lamar ',\n",
    "   'R',\n",
    "   'TN',\n",
    "   'Class II',\n",
    "   '455 Dirksen Senate Office Building Washington DC 20510',\n",
    "   '(202) 224-4944 ',\n",
    "   'www.alexander.senate.gov/public/index.cfm?p=Email')],\n",
    " [('Baldwin',\n",
    "   'Tammy ',\n",
    "   'D',\n",
    "   'WI',\n",
    "   'Class I',\n",
    "   '709 Hart Senate Office Building Washington DC 20510',\n",
    "   '(202) 224-5653 ',\n",
    "   'www.baldwin.senate.gov/feedback')],\n",
    " [('Barrasso',\n",
    "   'John ',\n",
    "   'R',\n",
    "   'WY',\n",
    "   'Class I',\n",
    "   '307 Dirksen Senate Office Building Washington DC 20510',\n",
    "   '(202) 224-6441 ',\n",
    "   'www.barrasso.senate.gov/public/index.cfm/contact-form')],\n",
    " [('Bennet',\n",
    "   'Michael F. ',\n",
    "   'D',\n",
    "   'CO',\n",
    "   'Class III',\n",
    "   '261 Russell Senate Office Building Washington DC 20510',\n",
    "   '(202) 224-5852 ',\n",
    "   'www.bennet.senate.gov/public/index.cfm/write-to-michael')]\n",
    "  \n",
    "```\n",
    "...and so forth, 8 fields for 100 senators. \n",
    "\n",
    "You just need to modify the regular expression.\n",
    "\n",
    "If you don't like the idea of this, immediately move on to the cells below to search the Waste Land."
   ]
  },
  {
   "cell_type": "code",
   "execution_count": null,
   "metadata": {
    "collapsed": true
   },
   "outputs": [],
   "source": [
    "data_regex = r\"\"\n",
    "#fields = re.findall(data_regex,senator_list[44])\n",
    "everything = [re.findall(data_regex,line) for line in senator_list]\n",
    "everything\n",
    "#fields"
   ]
  },
  {
   "cell_type": "markdown",
   "metadata": {},
   "source": [
    "The questions below are on The Waste Land, go to courseworks and download `wasteland.txt` and then put in the proper path to your file on your computer. Then run the two cells below."
   ]
  },
  {
   "cell_type": "code",
   "execution_count": 78,
   "metadata": {},
   "outputs": [],
   "source": [
    "# Note!!! That is my path not yours,Please edit it to get to the proper folder and file.\n",
    "f = open('/Users/dronejournalismlab/Downloads/wasteland.txt', 'r')\n",
    "wasteland = f.read()\n"
   ]
  },
  {
   "cell_type": "code",
   "execution_count": 79,
   "metadata": {},
   "outputs": [],
   "source": [
    "poemlines = wasteland.split('\\n')\n",
    "poemlines = [line.strip() for line in poemlines]"
   ]
  },
  {
   "cell_type": "code",
   "execution_count": 80,
   "metadata": {},
   "outputs": [
    {
     "data": {
      "text/plain": [
       "['Looking into the heart of light, the silence.',\n",
       " 'I see crowds of people, walking round in a ring.',\n",
       " 'Flowed up the hill and down King William Street,',\n",
       " 'The change of Philomel, by the barbarous king',\n",
       " '“What are you thinking of? What thinking? What?',\n",
       " '“I never know what you are thinking. Think.”',\n",
       " 'Musing upon the king my brother’s wreck',\n",
       " 'And on the king my father’s death before him.',\n",
       " 'Stockings, slippers, camisoles, and stays.',\n",
       " 'There is always another one walking beside you',\n",
       " 'My friend, blood shaking my heart',\n",
       " 'Thinking of the key, each confirms a prison']"
      ]
     },
     "execution_count": 80,
     "metadata": {},
     "output_type": "execute_result"
    }
   ],
   "source": [
    "#7. Lines with the WORD \"king\" in them\n",
    "my_regex = r\"[kK]ing\"\n",
    "[line for line in poemlines if re.search(my_regex, line,re.IGNORECASE)]"
   ]
  },
  {
   "cell_type": "code",
   "execution_count": 117,
   "metadata": {},
   "outputs": [
    {
     "data": {
      "text/plain": [
       "['Looking into the heart of light, the silence.',\n",
       " 'I see crowds of people, walking round in a ring.',\n",
       " '“What are you thinking of? What thinking? What?',\n",
       " '“I never know what you are thinking. Think.”',\n",
       " 'Stockings, slippers, camisoles, and stays.',\n",
       " 'There is always another one walking beside you',\n",
       " 'My friend, blood shaking my heart',\n",
       " 'Thinking of the key, each confirms a prison']"
      ]
     },
     "execution_count": 117,
     "metadata": {},
     "output_type": "execute_result"
    }
   ],
   "source": [
    "#8. Lines with the words ending in \"king\", but not the word \"king\"\n",
    "my_regex = r\"\\w+king\"\n",
    "[line for line in poemlines if re.search(my_regex, line,re.IGNORECASE)]\n"
   ]
  },
  {
   "cell_type": "code",
   "execution_count": 120,
   "metadata": {},
   "outputs": [
    {
     "data": {
      "text/plain": [
       "['You cannot say, or guess, for you know only',\n",
       " 'And the dry stone no sound of water. Only',\n",
       " 'Were told upon the walls; staring forms',\n",
       " 'Spread out in fiery points',\n",
       " 'Silk handkerchiefs, cardboard boxes, cigarette ends',\n",
       " 'Unshaven, with a pocket full of currants',\n",
       " 'Asked me in demotic French',\n",
       " 'The typist home at teatime, clears her breakfast, lights',\n",
       " 'Where fishmen lounge at noon: where the walls',\n",
       " 'The peal of bells',\n",
       " 'If there were the sound of water only',\n",
       " 'Over endless plains, stumbling in cracked earth',\n",
       " 'Ringed by the flat horizon only',\n",
       " 'A woman drew her long black hair out tight',\n",
       " 'And fiddled whisper music on those strings',\n",
       " 'And bats with baby faces in the violet light',\n",
       " 'Whistled, and beat their wings',\n",
       " 'Turn in the door once and turn once only',\n",
       " 'To controlling hands']"
      ]
     },
     "execution_count": 120,
     "metadata": {},
     "output_type": "execute_result"
    }
   ],
   "source": [
    "#9. Lines with words containing 3 vowels in a row\n",
    "my_regex = r\"\\w[^aAeEiIoOuU]{3}$\\b\"\n",
    "[line for line in poemlines if re.search(my_regex, line,re.IGNORECASE)]"
   ]
  },
  {
   "cell_type": "code",
   "execution_count": 113,
   "metadata": {},
   "outputs": [
    {
     "data": {
      "text/plain": [
       "['BY T. S. ELIOT',\n",
       " 'FOR EZRA POUND',\n",
       " 'IL MIGLIOR FABBRO',\n",
       " 'HURRY UP PLEASE ITS TIME',\n",
       " 'HURRY UP PLEASE ITS TIME',\n",
       " 'HURRY UP PLEASE ITS TIME',\n",
       " 'HURRY UP PLEASE ITS TIME',\n",
       " 'HURRY UP PLEASE ITS TIME']"
      ]
     },
     "execution_count": 113,
     "metadata": {},
     "output_type": "execute_result"
    }
   ],
   "source": [
    "#10. Lines that are in all capitals from beginning to end\n",
    "my_regex = r\"\\w[A-Z]\\w$\"\n",
    "[line for line in poemlines if re.search(my_regex, line)]"
   ]
  },
  {
   "cell_type": "code",
   "execution_count": 115,
   "metadata": {},
   "outputs": [
    {
     "data": {
      "text/plain": [
       "['DA', 'DA', 'DA']"
      ]
     },
     "execution_count": 115,
     "metadata": {},
     "output_type": "execute_result"
    }
   ],
   "source": [
    "#11. Lines that end with a Capitalized word.\n",
    "my_regex = r\"\\b\\w{1}[A-Z]$\"\n",
    "[line for line in poemlines if re.search(my_regex, line)]"
   ]
  },
  {
   "cell_type": "code",
   "execution_count": 89,
   "metadata": {},
   "outputs": [
    {
     "data": {
      "text/plain": [
       "['With a shower of rain; we stopped in the colonnade,',\n",
       " 'Is known to be the wisest woman in Europe,',\n",
       " 'Is your card, the drowned Phoenician Sailor,',\n",
       " 'I see crowds of people, walking round in a ring.',\n",
       " 'Under the brown fog of a winter dawn,',\n",
       " 'A crowd flowed over London Bridge, so many,',\n",
       " 'Flowed up the hill and down King William Street,',\n",
       " 'Glowed on the marble, where the glass',\n",
       " 'And drowned the sense in odours; stirred by the air',\n",
       " 'Glowed into words, then would be savagely still.',\n",
       " 'Crosses the brown land, unheard. The nymphs are departed.',\n",
       " 'Under the brown fog of a winter noon',\n",
       " 'Followed by a weekend at the Metropole.',\n",
       " 'Bestows one final patronising kiss,',\n",
       " 'Her brain allows one half-formed thought to pass:',\n",
       " 'Gliding wrapt in a brown mantle, hooded',\n",
       " 'It has no windows, and the door swings,']"
      ]
     },
     "execution_count": 89,
     "metadata": {},
     "output_type": "execute_result"
    }
   ],
   "source": [
    "#12. Lines that contain two words with the letters \"ow\" in them\n",
    "my_regex = r\"\\w{2}ow\\w\"\n",
    "[line for line in poemlines if re.search(my_regex, line,re.IGNORECASE)]"
   ]
  },
  {
   "cell_type": "code",
   "execution_count": 82,
   "metadata": {},
   "outputs": [
    {
     "data": {
      "text/plain": [
       "['DA',\n",
       " 'Datta: what have we given?',\n",
       " 'DA',\n",
       " 'Dayadhvam: I have heard the key',\n",
       " 'DA',\n",
       " 'Damyata: The boat responded',\n",
       " 'Datta. Dayadhvam. Damyata.']"
      ]
     },
     "execution_count": 82,
     "metadata": {},
     "output_type": "execute_result"
    }
   ],
   "source": [
    "#13. Lines that begin with \"Da\"\n",
    "my_regex = r\"^Da\"\n",
    "[line for line in poemlines if re.search(my_regex, line,re.IGNORECASE)]"
   ]
  },
  {
   "cell_type": "code",
   "execution_count": 111,
   "metadata": {},
   "outputs": [
    {
     "data": {
      "text/plain": [
       "['Out of this stony rubbish? Son of man,',\n",
       " 'Wo weilest du?',\n",
       " '“Has it begun to sprout? Will it bloom this year?',\n",
       " '“Or has the sudden frost disturbed its bed?',\n",
       " '“What are you thinking of? What thinking? What?',\n",
       " '“What is that noise?”',\n",
       " '“What is that noise now? What is the wind doing?”',\n",
       " '“You know nothing? Do you see nothing? Do you remember',\n",
       " '“Nothing?”',\n",
       " '“Are you alive, or not? Is there nothing in your head?”',\n",
       " '“What shall I do now? What shall I do?”',\n",
       " '“With my hair down, so. What shall we do tomorrow?',\n",
       " '“What shall we ever do?”',\n",
       " 'What you get married for if you don’t want children?',\n",
       " 'I made no comment. What should I resent?”',\n",
       " 'Who is the third who walks always beside you?',\n",
       " '—But who is that on the other side of you?',\n",
       " 'Datta: what have we given?',\n",
       " 'Shall I at least set my lands in order?']"
      ]
     },
     "execution_count": 111,
     "metadata": {},
     "output_type": "execute_result"
    }
   ],
   "source": [
    "#14. Lines that end with ? (Remember ? is a special character)\n",
    "my_regex = r\"\\b\\b[?]\"\n",
    "[line for line in poemlines if re.search(my_regex, line,re.IGNORECASE)]"
   ]
  },
  {
   "cell_type": "code",
   "execution_count": 134,
   "metadata": {},
   "outputs": [
    {
     "data": {
      "text/plain": [
       "['April is the cruellest month, breeding',\n",
       " 'Memory and desire, stirring',\n",
       " 'Winter kept us warm, covering',\n",
       " 'Earth in forgetful snow, feeding',\n",
       " 'Summer surprised us, coming over the Starnbergersee',\n",
       " 'With a shower of rain; we stopped in the colonnade,',\n",
       " 'And went on in sunlight, into the Hofgarten,',\n",
       " 'And when we were children, staying at the arch-duke’s,',\n",
       " 'And I was frightened. He said, Marie,',\n",
       " 'In the mountains, there you feel free.',\n",
       " 'What are the roots that clutch, what branches grow',\n",
       " 'And I will show you something different from either',\n",
       " 'Your shadow at morning striding behind you',\n",
       " '“You gave me hyacinths first a year ago;',\n",
       " '“They called me the hyacinth girl.”',\n",
       " '—Yet when we came back, late, from the Hyacinth garden,',\n",
       " 'Madame Sosostris, famous clairvoyante,',\n",
       " 'Is your card, the drowned Phoenician Sailor,',\n",
       " 'Here is Belladonna, the Lady of the Rocks,',\n",
       " 'The lady of situations.',\n",
       " 'And here is the one-eyed merchant, and this card,',\n",
       " 'Which is blank, is something he carries on his back,',\n",
       " 'Which I am forbidden to see. I do not find',\n",
       " 'Thank you. If you see dear Mrs. Equitone,',\n",
       " 'Tell her I bring the horoscope myself:',\n",
       " 'Sighs, short and infrequent, were exhaled,',\n",
       " 'To where Saint Mary Woolnoth kept the hours',\n",
       " '“Or has the sudden frost disturbed its bed?',\n",
       " '“You! hypocrite lecteur!—mon semblable,—mon frère!”',\n",
       " 'The Chair she sat in, like a burnished throne,',\n",
       " 'Held up by standards wrought with fruited vines',\n",
       " 'Doubled the flames of sevenbranched candelabra',\n",
       " 'Reflecting light upon the table as',\n",
       " 'From satin cases poured in rich profusion;',\n",
       " 'In vials of ivory and coloured glass',\n",
       " 'Unstoppered, lurked her strange synthetic perfumes,',\n",
       " 'Unguent, powdered, or liquid—troubled, confused',\n",
       " 'That freshened from the window, these ascended',\n",
       " 'In fattening the prolonged candle-flames,',\n",
       " 'Flung their smoke into the laquearia,',\n",
       " 'Stirring the pattern on the coffered ceiling.',\n",
       " 'Burned green and orange, framed by the coloured stone,',\n",
       " 'Above the antique mantel was displayed',\n",
       " 'The change of Philomel, by the barbarous king',\n",
       " 'Filled all the desert with inviolable voice',\n",
       " 'And other withered stumps of time',\n",
       " 'Leaned out, leaning, hushing the room enclosed.',\n",
       " 'Footsteps shuffled on the stair.',\n",
       " 'Under the firelight, under the brush, her hair',\n",
       " 'Glowed into words, then would be savagely still.',\n",
       " '“What are you thinking of? What thinking? What?',\n",
       " '“I never know what you are thinking. Think.”',\n",
       " '“You know nothing? Do you see nothing? Do you remember',\n",
       " 'I remember',\n",
       " '“With my hair down, so. What shall we do tomorrow?',\n",
       " 'Pressing lidless eyes and waiting for a knock upon the door.',\n",
       " 'When Lil’s husband got demobbed, I said—',\n",
       " 'Now Albert’s coming back, make yourself a bit smart.',\n",
       " 'To get yourself some teeth. He did, I was there.',\n",
       " 'Oh is there, she said. Something o’ that, I said.',\n",
       " 'Then I’ll know who to thank, she said, and give me a straight look.',\n",
       " 'What you get married for if you don’t want children?',\n",
       " 'Goonight Bill. Goonight Lou. Goonight May. Goonight.',\n",
       " 'Ta ta. Goonight. Goonight.',\n",
       " 'Crosses the brown land, unheard. The nymphs are departed.',\n",
       " 'The river bears no empty bottles, sandwich papers,',\n",
       " 'Silk handkerchiefs, cardboard boxes, cigarette ends',\n",
       " 'Or other testimony of summer nights. The nymphs are departed.',\n",
       " 'And their friends, the loitering heirs of city directors;',\n",
       " 'Departed, have left no addresses.',\n",
       " 'A rat crept softly through the vegetation',\n",
       " 'Dragging its slimy belly on the bank',\n",
       " 'On a winter evening round behind the gashouse',\n",
       " 'And on her daughter',\n",
       " 'Et O ces voix d’enfants, chantant dans la coupole!',\n",
       " 'Mr. Eugenides, the Smyrna merchant',\n",
       " 'Unshaven, with a pocket full of currants',\n",
       " 'C.i.f. London: documents at sight,',\n",
       " 'To luncheon at the Cannon Street Hotel',\n",
       " 'Followed by a weekend at the Metropole.',\n",
       " 'Like a taxi throbbing waiting,',\n",
       " 'I Tiresias, though blind, throbbing between two lives,',\n",
       " 'Old man with wrinkled female breasts, can see',\n",
       " 'Homeward, and brings the sailor home from sea,',\n",
       " 'The typist home at teatime, clears her breakfast, lights',\n",
       " 'Out of the window perilously spread',\n",
       " 'Stockings, slippers, camisoles, and stays.',\n",
       " 'I Tiresias, old man with wrinkled dugs',\n",
       " 'Perceived the scene, and foretold the rest—',\n",
       " 'I too awaited the expected guest.',\n",
       " 'One of the low on whom assurance sits',\n",
       " 'As a silk hat on a Bradford millionaire.',\n",
       " 'The time is now propitious, as he guesses,',\n",
       " 'Endeavours to engage her in caresses',\n",
       " 'Which still are unreproved, if undesired.',\n",
       " 'Flushed and decided, he assaults at once;',\n",
       " 'Exploring hands encounter no defence;',\n",
       " 'His vanity requires no response,',\n",
       " '(And I Tiresias have foresuffered all',\n",
       " 'Hardly aware of her departed lover;',\n",
       " 'She smoothes her hair with automatic hand,',\n",
       " 'And puts a record on the gramophone.',\n",
       " 'And along the Strand, up Queen Victoria Street.',\n",
       " 'O City city, I can sometimes hear',\n",
       " 'The pleasant whining of a mandoline',\n",
       " 'Inexplicable splendour of Ionian white and gold.',\n",
       " 'Drifting logs',\n",
       " 'Down Greenwich reach',\n",
       " 'Weialala leia',\n",
       " 'Wallala leialala',\n",
       " 'Elizabeth and Leicester',\n",
       " 'Southwest wind',\n",
       " 'Weialala leia',\n",
       " 'Wallala leialala',\n",
       " 'Highbury bore me. Richmond and Kew',\n",
       " 'Undid me. By Richmond I raised my knees',\n",
       " '“My feet are at Moorgate, and my heart',\n",
       " 'He wept. He promised a ‘new start.’',\n",
       " 'To Carthage then I came',\n",
       " 'O Lord Thou pluckest me out',\n",
       " 'O Lord Thou pluckest',\n",
       " 'Phlebas the Phoenician, a fortnight dead,',\n",
       " 'Picked his bones in whispers. As he rose and fell',\n",
       " 'Entering the whirlpool.',\n",
       " 'O you who turn the wheel and look to windward,',\n",
       " 'Consider Phlebas, who was once handsome and tall as you.',\n",
       " 'After the torchlight red on sweaty faces',\n",
       " 'The shouting and the crying',\n",
       " 'Of thunder of spring over distant mountains',\n",
       " 'With a little patience',\n",
       " 'The road winding above among the mountains',\n",
       " 'Which are mountains of rock without water',\n",
       " 'Dead mountain mouth of carious teeth that cannot spit',\n",
       " 'There is not even silence in the mountains',\n",
       " 'There is not even solitude in the mountains',\n",
       " 'From doors of mudcracked houses',\n",
       " 'When I count, there are only you and I together',\n",
       " 'Murmur of maternal lamentation',\n",
       " 'Who are those hooded hordes swarming',\n",
       " 'Over endless plains, stumbling in cracked earth',\n",
       " 'What is the city over the mountains',\n",
       " 'Jerusalem Athens Alexandria',\n",
       " 'Whistled, and beat their wings',\n",
       " 'And crawled head downward down a blackened wall',\n",
       " 'And voices singing out of empty cisterns and exhausted wells.',\n",
       " 'In this decayed hole among the mountains',\n",
       " 'In the faint moonlight, the grass is singing',\n",
       " 'Only a cock stood on the rooftree',\n",
       " 'In a flash of lightning. Then a damp gust',\n",
       " 'Bringing rain',\n",
       " 'Gathered far distant, over Himavant.',\n",
       " 'The jungle crouched, humped in silence.',\n",
       " 'The awful daring of a moment’s surrender',\n",
       " 'Which an age of prudence can never retract',\n",
       " 'Which is not to be found in our obituaries',\n",
       " 'Or in memories draped by the beneficent spider',\n",
       " 'Or under seals broken by the lean solicitor',\n",
       " 'Dayadhvam: I have heard the key',\n",
       " 'Thinking of the key, each confirms a prison',\n",
       " 'Only at nightfall, aethereal rumours',\n",
       " 'Revive for a moment a broken Coriolanus',\n",
       " 'Damyata: The boat responded',\n",
       " 'The sea was calm, your heart would have responded',\n",
       " 'Gaily, when invited, beating obedient',\n",
       " 'Quando fiam uti chelidon—O swallow swallow',\n",
       " 'Le Prince d’Aquitaine à la tour abolie',\n",
       " 'These fragments I have shored against my ruins',\n",
       " 'Why then Ile fit you. Hieronymo’s mad againe.',\n",
       " 'Datta. Dayadhvam. Damyata.']"
      ]
     },
     "execution_count": 134,
     "metadata": {},
     "output_type": "execute_result"
    }
   ],
   "source": [
    "#15. Lines that are between 8 and 10 characters long.\n",
    "my_regex = r\"\\b\\w{8,10}\\b\"\n",
    "[line for line in poemlines if re.search(my_regex, line,re.IGNORECASE)]"
   ]
  },
  {
   "cell_type": "code",
   "execution_count": null,
   "metadata": {
    "collapsed": true
   },
   "outputs": [],
   "source": []
  },
  {
   "cell_type": "code",
   "execution_count": null,
   "metadata": {
    "collapsed": true
   },
   "outputs": [],
   "source": []
  }
 ],
 "metadata": {
  "kernelspec": {
   "display_name": "Python 3",
   "language": "python",
   "name": "python3"
  },
  "language_info": {
   "codemirror_mode": {
    "name": "ipython",
    "version": 3
   },
   "file_extension": ".py",
   "mimetype": "text/x-python",
   "name": "python",
   "nbconvert_exporter": "python",
   "pygments_lexer": "ipython3",
   "version": "3.6.5"
  }
 },
 "nbformat": 4,
 "nbformat_minor": 2
}
